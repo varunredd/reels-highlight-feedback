{
 "cells": [
  {
   "cell_type": "code",
   "execution_count": 11,
   "id": "7c4552b7",
   "metadata": {},
   "outputs": [
    {
     "name": "stdout",
     "output_type": "stream",
     "text": [
      "📂 Working directory set to: /Users/varunreddy/Downloads/Reels\n",
      "📂 Loaded run: runs/2025-08-28_21-00-28.json\n",
      "\n",
      "🎬 Clip 1 | Score=0.412\n",
      "📝 Are you the best footballer in the world right now? I think so, yes. In my mind I'm always the best. I don't care what the people are thinking, what they say. In my mind, not just this year but always...\n"
     ]
    },
    {
     "data": {
      "text/html": [
       "\n",
       "    <video width=\"400\" controls>\n",
       "        <source src=\"/Users/varunreddy/Downloads/Reels/data/clips/clip_1.mp4\" type=\"video/mp4\">\n",
       "        Your browser does not support the video tag.\n",
       "    </video>\n",
       "    "
      ],
      "text/plain": [
       "<IPython.core.display.HTML object>"
      ]
     },
     "metadata": {},
     "output_type": "display_data"
    },
    {
     "name": "stdout",
     "output_type": "stream",
     "text": [
      "🌐 Opened in browser: file:///Users/varunreddy/Downloads/Reels/data/clips/clip_1.mp4\n",
      "\n",
      "🎬 Clip 2 | Score=0.410\n",
      "📝 Maybe it's someone's, it doesn't like me because maybe I'm too good. I don't follow the record. The records follow me in my mind. I'm always good. The talent is part of me, but if you don't work the t...\n"
     ]
    },
    {
     "data": {
      "text/html": [
       "\n",
       "    <video width=\"400\" controls>\n",
       "        <source src=\"/Users/varunreddy/Downloads/Reels/data/clips/clip_2.mp4\" type=\"video/mp4\">\n",
       "        Your browser does not support the video tag.\n",
       "    </video>\n",
       "    "
      ],
      "text/plain": [
       "<IPython.core.display.HTML object>"
      ]
     },
     "metadata": {},
     "output_type": "display_data"
    },
    {
     "name": "stdout",
     "output_type": "stream",
     "text": [
      "🌐 Opened in browser: file:///Users/varunreddy/Downloads/Reels/data/clips/clip_2.mp4\n",
      "\n",
      "🎬 Clip 3 | Score=0.405\n",
      "📝 But they have to say to be in my shoes is not easy but I'm not complaining. I just want to say that I'm feel happy. All this happened because the reason. The reason is I'm unbelievable inside the pitc...\n"
     ]
    },
    {
     "data": {
      "text/html": [
       "\n",
       "    <video width=\"400\" controls>\n",
       "        <source src=\"/Users/varunreddy/Downloads/Reels/data/clips/clip_3.mp4\" type=\"video/mp4\">\n",
       "        Your browser does not support the video tag.\n",
       "    </video>\n",
       "    "
      ],
      "text/plain": [
       "<IPython.core.display.HTML object>"
      ]
     },
     "metadata": {},
     "output_type": "display_data"
    },
    {
     "name": "stdout",
     "output_type": "stream",
     "text": [
      "🌐 Opened in browser: file:///Users/varunreddy/Downloads/Reels/data/clips/clip_3.mp4\n",
      "\n",
      "🎬 Clip 4 | Score=0.402\n",
      "📝 How much has Leonel Messi pushed you to become a better player? I'm pushed to myself. I don't need other players to push myself. I just want to see that I was in sporting. I push myself all the time t...\n"
     ]
    },
    {
     "data": {
      "text/html": [
       "\n",
       "    <video width=\"400\" controls>\n",
       "        <source src=\"/Users/varunreddy/Downloads/Reels/data/clips/clip_4.mp4\" type=\"video/mp4\">\n",
       "        Your browser does not support the video tag.\n",
       "    </video>\n",
       "    "
      ],
      "text/plain": [
       "<IPython.core.display.HTML object>"
      ]
     },
     "metadata": {},
     "output_type": "display_data"
    },
    {
     "name": "stdout",
     "output_type": "stream",
     "text": [
      "🌐 Opened in browser: file:///Users/varunreddy/Downloads/Reels/data/clips/clip_4.mp4\n",
      "\n",
      "🎬 Clip 5 | Score=0.402\n",
      "📝 How much has Leonel Messi pushed you to become a better player? I'm pushed to myself. I don't need other players to push myself. I just want to see that I was in sporting. I push myself all the time t...\n"
     ]
    },
    {
     "data": {
      "text/html": [
       "\n",
       "    <video width=\"400\" controls>\n",
       "        <source src=\"/Users/varunreddy/Downloads/Reels/data/clips/clip_5.mp4\" type=\"video/mp4\">\n",
       "        Your browser does not support the video tag.\n",
       "    </video>\n",
       "    "
      ],
      "text/plain": [
       "<IPython.core.display.HTML object>"
      ]
     },
     "metadata": {},
     "output_type": "display_data"
    },
    {
     "name": "stdout",
     "output_type": "stream",
     "text": [
      "🌐 Opened in browser: file:///Users/varunreddy/Downloads/Reels/data/clips/clip_5.mp4\n",
      "✅ Saved feedback to notebooks/reviews/reviewed_2025-08-28_21-00-28.json\n"
     ]
    }
   ],
   "source": [
    "# notebooks/review_highlights.ipynb\n",
    "\n",
    "import os, glob, json, webbrowser\n",
    "from pathlib import Path\n",
    "from IPython.display import HTML, display\n",
    "\n",
    "# ---------------------------\n",
    "# 0. Set project root\n",
    "# ---------------------------\n",
    "PROJECT_ROOT = Path(__file__).resolve().parents[1] if \"__file__\" in globals() else Path.cwd()\n",
    "os.chdir(PROJECT_ROOT)\n",
    "print(f\"📂 Working directory set to: {PROJECT_ROOT}\")\n",
    "\n",
    "# ---------------------------\n",
    "# Helpers\n",
    "# ---------------------------\n",
    "def show_video(path, width=400):\n",
    "    \"\"\"Embed video inline (muted in VS Code/Jupyter).\"\"\"\n",
    "    path = Path(path).as_posix()  # forward slashes\n",
    "    return HTML(f\"\"\"\n",
    "    <video width=\"{width}\" controls>\n",
    "        <source src=\"{path}\" type=\"video/mp4\">\n",
    "        Your browser does not support the video tag.\n",
    "    </video>\n",
    "    \"\"\")\n",
    "\n",
    "def open_in_browser(path):\n",
    "    \"\"\"Open video file in system browser (with sound).\"\"\"\n",
    "    path = Path(path).resolve()\n",
    "    url = f\"file://{path.as_posix()}\"\n",
    "    webbrowser.open(url)\n",
    "    print(f\"🌐 Opened in browser: {url}\")\n",
    "\n",
    "# ---------------------------\n",
    "# 1. Load the latest run log\n",
    "# ---------------------------\n",
    "Path(\"runs\").mkdir(exist_ok=True)\n",
    "logs = sorted(glob.glob(\"runs/*.json\"), key=os.path.getmtime, reverse=True)\n",
    "\n",
    "if not logs:\n",
    "    # If no logs exist, create a dummy one\n",
    "    dummy_log = {\n",
    "        \"clips\": [\n",
    "            {\n",
    "                \"rank\": 1,\n",
    "                \"score\": 0.95,\n",
    "                \"text\": \"Sample transcript for clip 1.\",\n",
    "                \"file\": \"data/clips/clip_1.mp4\"\n",
    "            }\n",
    "        ]\n",
    "    }\n",
    "    dummy_log_path = \"runs/dummy_run.json\"\n",
    "    with open(dummy_log_path, \"w\", encoding=\"utf-8\") as f:\n",
    "        json.dump(dummy_log, f, indent=2)\n",
    "    logs = [dummy_log_path]\n",
    "\n",
    "latest_log = logs[0]\n",
    "print(f\"📂 Loaded run: {latest_log}\")\n",
    "\n",
    "with open(latest_log, \"r\", encoding=\"utf-8\") as f:\n",
    "    run_data = json.load(f)\n",
    "\n",
    "clips = run_data.get(\"clips\", [])\n",
    "\n",
    "# ---------------------------\n",
    "# 2. Prepare reviews folder\n",
    "# ---------------------------\n",
    "Path(\"notebooks/reviews\").mkdir(parents=True, exist_ok=True)\n",
    "review_file = f\"notebooks/reviews/reviewed_{os.path.basename(latest_log)}\"\n",
    "\n",
    "# ---------------------------\n",
    "# 3. Review loop\n",
    "# ---------------------------\n",
    "feedback = []\n",
    "for clip in clips:\n",
    "    print(f\"\\n🎬 Clip {clip['rank']} | Score={clip['score']:.3f}\")\n",
    "    print(f\"📝 {clip['text'][:200]}...\")  # transcript preview\n",
    "\n",
    "    # Ensure valid video path\n",
    "    rel_path = Path(clip.get(\"file\", \"\"))\n",
    "    file_path = PROJECT_ROOT / rel_path\n",
    "    if file_path.is_file() and file_path.suffix.lower() in [\".mp4\", \".mov\", \".avi\"]:\n",
    "        # Inline (preview only, may be muted)\n",
    "        display(show_video(file_path, width=400))\n",
    "        # Auto-open in browser with sound\n",
    "        open_in_browser(file_path)\n",
    "    else:\n",
    "        print(f\"⚠️ No valid video file for this clip: {file_path}\")\n",
    "\n",
    "    # Ask for feedback interactively\n",
    "    val = input(\"Highlight? 👍(1) / 👎(0): \")\n",
    "    val = 1 if val.strip() == \"1\" else 0\n",
    "\n",
    "    clip[\"label\"] = val\n",
    "    feedback.append(clip)\n",
    "\n",
    "# ---------------------------\n",
    "# 4. Save feedback\n",
    "# ---------------------------\n",
    "with open(review_file, \"w\", encoding=\"utf-8\") as f:\n",
    "    json.dump({\"original_run\": latest_log, \"feedback\": feedback}, f, indent=2)\n",
    "\n",
    "print(f\"✅ Saved feedback to {review_file}\")\n"
   ]
  }
 ],
 "metadata": {
  "kernelspec": {
   "display_name": "reels",
   "language": "python",
   "name": "python3"
  },
  "language_info": {
   "codemirror_mode": {
    "name": "ipython",
    "version": 3
   },
   "file_extension": ".py",
   "mimetype": "text/x-python",
   "name": "python",
   "nbconvert_exporter": "python",
   "pygments_lexer": "ipython3",
   "version": "3.11.13"
  }
 },
 "nbformat": 4,
 "nbformat_minor": 5
}
